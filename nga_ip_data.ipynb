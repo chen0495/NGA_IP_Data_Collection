{
 "cells": [
  {
   "cell_type": "code",
   "execution_count": null,
   "id": "dd9f92a6",
   "metadata": {},
   "outputs": [],
   "source": [
    "import requests as req\n",
    "from lxml import etree\n",
    "import numpy as np\n",
    "import time\n",
    "import re\n",
    "\n",
    "headers = {\n",
    "    # 在浏览器中，network查看\n",
    "    'User-Agent': 'Mozilla/5.0 (Windows NT 10.0; Win64; x64) AppleWebKit/537.36 (KHTML, like Gecko) Chrome/103.0.5060.114 Safari/537.36 Edg/103.0.1264.62',\n",
    "    'Cookie': '',\n",
    "    'Connection':'close',\n",
    "}\n"
   ]
  },
  {
   "cell_type": "markdown",
   "id": "a65d97fb",
   "metadata": {},
   "source": [
    "## 版面页"
   ]
  },
  {
   "cell_type": "code",
   "execution_count": null,
   "id": "11727833",
   "metadata": {},
   "outputs": [],
   "source": [
    "urls = []  # 保存页面uid\n",
    "limit = 5  # 版面页数，请勿设置过多\n",
    "\n",
    "for i in range(1,limit+1):  # 获取近期回复前limit页中的帖子地址\n",
    "    \n",
    "    time.sleep(1) \n",
    "    \n",
    "    mainPage = req.get('https://bbs.nga.cn/thread.php?fid=650&order_by=lastpostdesc&page='+str(i),headers=headers,verify=False)\n",
    "    doc = etree.HTML(mainPage.text)\n",
    "    pages_url = doc.xpath('//td[@class=\"c1\"]/a')\n",
    "    \n",
    "    for pg in pages_url:\n",
    "        r = re.search(r'[0-9]+',pg.attrib['href']).group()   # 帖子uid\n",
    "        urls.append(r)\n",
    "        print('no.'+str(i)+' : '+str(r))\n"
   ]
  },
  {
   "cell_type": "code",
   "execution_count": null,
   "id": "d65d33d6",
   "metadata": {},
   "outputs": [],
   "source": [
    "urls = set(urls) # 帖子去重,注意此处顺序被打乱\n",
    "urls = list(urls)\n",
    "print(len(urls))"
   ]
  },
  {
   "cell_type": "markdown",
   "id": "cc174b90",
   "metadata": {},
   "source": [
    "## 主题页"
   ]
  },
  {
   "cell_type": "code",
   "execution_count": null,
   "id": "7bfbec6d",
   "metadata": {},
   "outputs": [],
   "source": [
    "uid = [] \n",
    "for item in  urls:  # 帖子中用户uid获取\n",
    "    \n",
    "    time.sleep(1)\n",
    "    \n",
    "    page_url = 'https://bbs.nga.cn/read.php?tid='+str(item)+'&lite=js'         # 获取当前帖子页数\n",
    "    mainPage = req.get(page_url,headers=headers,verify=False)\n",
    "    txt = str(mainPage.text).replace('window.script_muti_get_var_store=','')\n",
    "    Rows = re.findall(r'\"__ROWS\"\\:[0-9]+',txt)\n",
    "    \n",
    "    if Rows:        # nga一小部分帖子js只传一半\n",
    "         pass\n",
    "    else:\n",
    "        continue\n",
    "        \n",
    "    pageNum = int(int(Rows[0].replace('\"__ROWS\":',''))/20 + 1)  # 当前帖子页数\n",
    "    print(str(item)+\" pages: \"+str(pageNum))\n",
    "    \n",
    "    if pageNum>100:  #去除超过100页的帖子\n",
    "        continue\n",
    "    \n",
    "    for i in range(1,pageNum+1):       # 用户uid获取\n",
    "        u = page_url+'&page='+str(i)\n",
    "        mainPage = req.get(u,headers=headers,verify=False)\n",
    "        txt = str(mainPage.text).replace('window.script_muti_get_var_store=','')\n",
    "        tmp = re.findall(r'\"uid\"\\:[0-9]+',txt)\n",
    "        flag = 0\n",
    "        for t in tmp:\n",
    "            if(flag==0):\n",
    "                flag=1\n",
    "                continue\n",
    "            i = t.replace('\"uid\":','')\n",
    "            uid.append(i)\n",
    "uid"
   ]
  },
  {
   "cell_type": "code",
   "execution_count": null,
   "id": "e0899c91",
   "metadata": {},
   "outputs": [],
   "source": [
    "len(uid)  # 用户人数，不去重则更能反应活跃度，去重则反应真实人数"
   ]
  },
  {
   "cell_type": "markdown",
   "id": "d7ceb6cc",
   "metadata": {},
   "source": [
    "## 用户页"
   ]
  },
  {
   "cell_type": "code",
   "execution_count": null,
   "id": "3afd4b81",
   "metadata": {},
   "outputs": [],
   "source": [
    "url = 'https://bbs.nga.cn/nuke.php?lite=js&__lib=ucp&__act=get&uid='  # 用户IP查询\n",
    "ips = [] # 保存ip\n",
    "nums = 0\n",
    "for person in uid:\n",
    "    time.sleep(0.1)\n",
    "    person_page_url = url + person\n",
    "    mainPage = req.get(person_page_url,headers=headers,verify=False)\n",
    "    txt = str(mainPage.text).replace('window.script_muti_get_var_store=','')\n",
    "    tmp = re.findall(r'\"ipLoc\"\\:\"[\\u4e00-\\u9fa5]+',txt) # 正则查找\n",
    "    if tmp:  # nga有概率js只传一半\n",
    "        pass\n",
    "    else:\n",
    "        continue\n",
    "    tmp = tmp[0].replace('\"ipLoc\":\"','')\n",
    "    ips.append(tmp)\n",
    "    print(nums,tmp)  # 输出当前位置，方便网络中断后继续运行\n",
    "    nums = nums+1"
   ]
  },
  {
   "cell_type": "code",
   "execution_count": null,
   "id": "0a84de20",
   "metadata": {},
   "outputs": [],
   "source": [
    "# 中断续爬\n",
    "# nums = 0\n",
    "# for person in range(7705,9825):\n",
    "#     time.sleep(0.1)\n",
    "#     person_page_url = url + uid[person]\n",
    "#     mainPage = req.get(person_page_url,headers=headers,verify=False)\n",
    "#     txt = str(mainPage.text).replace('window.script_muti_get_var_store=','')\n",
    "#     tmp = re.findall(r'\"ipLoc\"\\:\"[\\u4e00-\\u9fa5]+',txt) # 正则查找\n",
    "#     if tmp:  # nga有概率js只传一半\n",
    "#         pass\n",
    "#     else:\n",
    "#         continue\n",
    "#     tmp = tmp[0].replace('\"ipLoc\":\"','')\n",
    "#     ips.append(tmp)\n",
    "#     print(nums,tmp)\n",
    "#     nums = nums+1\n",
    "# len(ips)"
   ]
  },
  {
   "cell_type": "code",
   "execution_count": null,
   "id": "3ff61031",
   "metadata": {},
   "outputs": [],
   "source": [
    "with open('.\\\\area.txt', mode='a',encoding='utf-8') as f:  # 写入文件保存\n",
    "    for i in ips:\n",
    "        f.write(i+'\\n')"
   ]
  },
  {
   "cell_type": "markdown",
   "id": "3d5a3c2e",
   "metadata": {},
   "source": [
    "## 结果处理"
   ]
  },
  {
   "cell_type": "code",
   "execution_count": null,
   "id": "cbd8bf73",
   "metadata": {},
   "outputs": [],
   "source": [
    "# 数据处理\n",
    "data = np.array(ips)\n",
    "data"
   ]
  },
  {
   "cell_type": "code",
   "execution_count": null,
   "id": "4bae06ae",
   "metadata": {},
   "outputs": [],
   "source": [
    "unique,count=np.unique(data,return_counts=True)  # 分类计数\n",
    "data_count=dict(zip(unique,count))\n",
    "data_count"
   ]
  },
  {
   "cell_type": "code",
   "execution_count": null,
   "id": "a20bf9eb",
   "metadata": {},
   "outputs": [],
   "source": [
    "dict_sorted = sorted(data_count.items(),key=lambda x:x[1],reverse=True) # 排序\n",
    "dict_sorted[:50]"
   ]
  },
  {
   "cell_type": "code",
   "execution_count": null,
   "id": "dbda8a1d",
   "metadata": {},
   "outputs": [],
   "source": [
    "# 规范数据格式，方便导入echats\n",
    "lists1= []\n",
    "lists2= []\n",
    "for i,j in dict_sorted:\n",
    "    if j>=50: \n",
    "        lists1.append(i)\n",
    "        lists2.append(j)\n",
    "\n",
    "lists1,lists2  "
   ]
  },
  {
   "cell_type": "code",
   "execution_count": null,
   "id": "22b6632d",
   "metadata": {},
   "outputs": [],
   "source": [
    "# 规范数据格式，方便导入echats\n",
    "lists = []\n",
    "for i,j in dict_sorted:\n",
    "    x = {'value' : j,'name' : i}\n",
    "    lists.append(x)\n",
    "lists"
   ]
  }
 ],
 "metadata": {
  "kernelspec": {
   "display_name": "Python 3 (ipykernel)",
   "language": "python",
   "name": "python3"
  },
  "language_info": {
   "codemirror_mode": {
    "name": "ipython",
    "version": 3
   },
   "file_extension": ".py",
   "mimetype": "text/x-python",
   "name": "python",
   "nbconvert_exporter": "python",
   "pygments_lexer": "ipython3",
   "version": "3.10.4"
  }
 },
 "nbformat": 4,
 "nbformat_minor": 5
}
